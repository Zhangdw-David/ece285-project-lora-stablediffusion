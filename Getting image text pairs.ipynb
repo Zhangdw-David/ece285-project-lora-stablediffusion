{
 "cells": [
  {
   "cell_type": "code",
   "execution_count": 1,
   "metadata": {},
   "outputs": [
    {
     "name": "stdout",
     "output_type": "stream",
     "text": [
      "Original rows: 3820\n",
      "Filtered rows: 3749\n"
     ]
    }
   ],
   "source": [
    "!pip install ftfy regex tqdm --quiet\n",
    "!pip install git+https://github.com/openai/CLIP.git --quiet\n",
    "\n",
    "import pandas as pd\n",
    "import clip\n",
    "import torch\n",
    "\n",
    "# Load CLIP tokenizer\n",
    "device = \"cuda\" if torch.cuda.is_available() else \"cpu\"\n",
    "model, _ = clip.load(\"ViT-L/14\", device=device)\n",
    "\n",
    "# Load dataset\n",
    "df = pd.read_csv('C:/Users/zhang/Desktop/indiana dataset/indiana_reports.csv')\n",
    "df = df.dropna(subset=[\"impression\"])\n",
    "\n",
    "# Function to safely check token length without triggering RuntimeError\n",
    "def is_within_clip_limit(text, max_len=77):\n",
    "    try:\n",
    "        tokens = clip.tokenize([text], truncate=False)\n",
    "        actual_len = (tokens != 0).sum().item()\n",
    "        return actual_len <= max_len\n",
    "    except RuntimeError:\n",
    "        return False  # input is too long\n",
    "\n",
    "# Apply filtering\n",
    "mask = df[\"impression\"].apply(is_within_clip_limit)\n",
    "filtered_df = df[mask].reset_index(drop=True)\n",
    "\n",
    "# Save filtered data\n",
    "filtered_df.to_csv('C:/Users/zhang/Desktop/indiana dataset/impression_clip_filtered.csv', index=False)\n",
    "\n",
    "print(f\"Original rows: {len(df)}\")\n",
    "print(f\"Filtered rows: {len(filtered_df)}\")\n"
   ]
  },
  {
   "cell_type": "code",
   "execution_count": 2,
   "metadata": {},
   "outputs": [
    {
     "name": "stdout",
     "output_type": "stream",
     "text": [
      "Total image-text pairs: 7281\n"
     ]
    },
    {
     "data": {
      "text/html": [
       "<div>\n",
       "<style scoped>\n",
       "    .dataframe tbody tr th:only-of-type {\n",
       "        vertical-align: middle;\n",
       "    }\n",
       "\n",
       "    .dataframe tbody tr th {\n",
       "        vertical-align: top;\n",
       "    }\n",
       "\n",
       "    .dataframe thead th {\n",
       "        text-align: right;\n",
       "    }\n",
       "</style>\n",
       "<table border=\"1\" class=\"dataframe\">\n",
       "  <thead>\n",
       "    <tr style=\"text-align: right;\">\n",
       "      <th></th>\n",
       "      <th>filename</th>\n",
       "      <th>impression</th>\n",
       "    </tr>\n",
       "  </thead>\n",
       "  <tbody>\n",
       "    <tr>\n",
       "      <th>0</th>\n",
       "      <td>1_IM-0001-4001.dcm.png</td>\n",
       "      <td>Normal chest x-XXXX.</td>\n",
       "    </tr>\n",
       "    <tr>\n",
       "      <th>1</th>\n",
       "      <td>1_IM-0001-3001.dcm.png</td>\n",
       "      <td>Normal chest x-XXXX.</td>\n",
       "    </tr>\n",
       "    <tr>\n",
       "      <th>2</th>\n",
       "      <td>2_IM-0652-1001.dcm.png</td>\n",
       "      <td>No acute pulmonary findings.</td>\n",
       "    </tr>\n",
       "    <tr>\n",
       "      <th>3</th>\n",
       "      <td>2_IM-0652-2001.dcm.png</td>\n",
       "      <td>No acute pulmonary findings.</td>\n",
       "    </tr>\n",
       "    <tr>\n",
       "      <th>4</th>\n",
       "      <td>3_IM-1384-1001.dcm.png</td>\n",
       "      <td>No displaced rib fractures, pneumothorax, or p...</td>\n",
       "    </tr>\n",
       "  </tbody>\n",
       "</table>\n",
       "</div>"
      ],
      "text/plain": [
       "                 filename                                         impression\n",
       "0  1_IM-0001-4001.dcm.png                               Normal chest x-XXXX.\n",
       "1  1_IM-0001-3001.dcm.png                               Normal chest x-XXXX.\n",
       "2  2_IM-0652-1001.dcm.png                       No acute pulmonary findings.\n",
       "3  2_IM-0652-2001.dcm.png                       No acute pulmonary findings.\n",
       "4  3_IM-1384-1001.dcm.png  No displaced rib fractures, pneumothorax, or p..."
      ]
     },
     "execution_count": 2,
     "metadata": {},
     "output_type": "execute_result"
    }
   ],
   "source": [
    "import pandas as pd\n",
    "\n",
    "# Load filtered impressions and projection metadata\n",
    "df_impr = pd.read_csv('C:/Users/zhang/Desktop/indiana dataset/impression_clip_filtered.csv')\n",
    "df_proj = pd.read_csv('C:/Users/zhang/Desktop/indiana dataset/indiana_projections.csv')\n",
    "\n",
    "# Inner join on UID to match images with valid impressions\n",
    "df_merged = pd.merge(df_proj, df_impr, on=\"uid\", how=\"inner\")\n",
    "\n",
    "# Select relevant columns: image filename and impression text\n",
    "df_pairs = df_merged[[\"filename\", \"impression\"]].drop_duplicates()\n",
    "\n",
    "# Save the unique image-text pairs\n",
    "df_pairs.to_csv('C:/Users/zhang/Desktop/indiana dataset/image_text_pairs.csv', index=False)\n",
    "\n",
    "print(f\"Total image-text pairs: {len(df_pairs)}\")\n",
    "df_pairs.head()"
   ]
  },
  {
   "cell_type": "code",
   "execution_count": null,
   "metadata": {},
   "outputs": [],
   "source": []
  },
  {
   "cell_type": "code",
   "execution_count": null,
   "metadata": {},
   "outputs": [],
   "source": []
  },
  {
   "cell_type": "code",
   "execution_count": null,
   "metadata": {},
   "outputs": [],
   "source": []
  }
 ],
 "metadata": {
  "kaggle": {
   "accelerator": "gpu",
   "dataSources": [
    {
     "datasetId": 516716,
     "sourceId": 951996,
     "sourceType": "datasetVersion"
    }
   ],
   "dockerImageVersionId": 31040,
   "isGpuEnabled": true,
   "isInternetEnabled": true,
   "language": "python",
   "sourceType": "notebook"
  },
  "kernelspec": {
   "display_name": "Python [conda env:base] *",
   "language": "python",
   "name": "conda-base-py"
  },
  "language_info": {
   "codemirror_mode": {
    "name": "ipython",
    "version": 3
   },
   "file_extension": ".py",
   "mimetype": "text/x-python",
   "name": "python",
   "nbconvert_exporter": "python",
   "pygments_lexer": "ipython3",
   "version": "3.12.7"
  }
 },
 "nbformat": 4,
 "nbformat_minor": 4
}
